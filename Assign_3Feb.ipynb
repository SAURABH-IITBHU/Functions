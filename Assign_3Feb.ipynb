{
 "cells": [
  {
   "cell_type": "markdown",
   "id": "89498f9f-d27a-419a-8dba-a57f70b25c26",
   "metadata": {},
   "source": [
    "## Q1. Which keyword is used to create a function? Create a function to return a list of odd numbers in the range of 1 to 25."
   ]
  },
  {
   "cell_type": "markdown",
   "id": "8b54fa83-79b4-41e6-8e25-2671f29ca798",
   "metadata": {},
   "source": [
    "#### Ans. 'def' keyword is used to create a function."
   ]
  },
  {
   "cell_type": "code",
   "execution_count": 1,
   "id": "ff934eb7-db65-4fb9-abfb-b9ea354d1648",
   "metadata": {},
   "outputs": [
    {
     "name": "stdout",
     "output_type": "stream",
     "text": [
      "[1, 3, 5, 7, 9, 11, 13, 15, 17, 19, 21, 23, 25]\n"
     ]
    }
   ],
   "source": [
    "def odd_num():\n",
    "    l = []\n",
    "    start, end = 1,25\n",
    "    for i in range(start, end+1):\n",
    "        if i%2 != 0:\n",
    "            l.append(i)\n",
    "    return l\n",
    "print(odd_num())"
   ]
  },
  {
   "cell_type": "code",
   "execution_count": null,
   "id": "6aa52acb-817e-4e53-933d-422e72fa2b0d",
   "metadata": {},
   "outputs": [],
   "source": []
  },
  {
   "cell_type": "markdown",
   "id": "4b60b45b-44c2-4eeb-878f-849867f675a1",
   "metadata": {},
   "source": [
    "## Q2. Why *args and **kwargs is used in some functions? Create a function each for *args and **kwargs to demonstrate their use."
   ]
  },
  {
   "cell_type": "markdown",
   "id": "481fca6a-343c-4346-bfab-ed599bf69685",
   "metadata": {},
   "source": [
    "#### Ans. *args is used to take any number of arguments in a function.\n",
    "####      **kwargs is used to take any number of key-value pairs in a function."
   ]
  },
  {
   "cell_type": "code",
   "execution_count": 2,
   "id": "813aad56-49c3-42ef-9766-53e12a9700a6",
   "metadata": {},
   "outputs": [
    {
     "name": "stdout",
     "output_type": "stream",
     "text": [
      "[2, 4, 6, 8, 46, 90]\n"
     ]
    }
   ],
   "source": [
    "def func1(*args):\n",
    "    return [i for i in args if i%2 == 0]\n",
    "\n",
    "print(func1(1,2,3,4,5,6,7,8,9,25,46,55,90))"
   ]
  },
  {
   "cell_type": "code",
   "execution_count": 3,
   "id": "6dd277d4-1ce7-4599-9c60-68c83c72cc13",
   "metadata": {},
   "outputs": [
    {
     "name": "stdout",
     "output_type": "stream",
     "text": [
      "dict_items([('a', 8), ('b', 9)])\n"
     ]
    }
   ],
   "source": [
    "def func2(**kwargs):\n",
    "    return kwargs.items()\n",
    "\n",
    "print(func2(a=8,b=9))"
   ]
  },
  {
   "cell_type": "code",
   "execution_count": null,
   "id": "2e8c9854-20f7-4a25-9bab-964d8638216a",
   "metadata": {},
   "outputs": [],
   "source": []
  },
  {
   "cell_type": "markdown",
   "id": "5d236700-e71e-48dc-b6c4-beb41389ff13",
   "metadata": {},
   "source": [
    "## Q3. What is an iterator in python? Name the method used to initialise the iterator object and the method used for iteration. Use these methods to print the first five elements of the given list [2, 4, 6, 8, 10, 12, 14, 16,18, 20]."
   ]
  },
  {
   "cell_type": "markdown",
   "id": "9fbaed7f-ecab-4f58-a870-812eda728729",
   "metadata": {},
   "source": [
    "#### Ans. \n",
    "#### An iterator is an object that contains a countable number of values.\n",
    "\n",
    "#### An iterator is an object that you can traverse through all the values.\n",
    "#### iter() method is used to initialise the iterator.\n",
    "#### next() method is used for iteration."
   ]
  },
  {
   "cell_type": "code",
   "execution_count": 4,
   "id": "a4e6d192-b5cd-446f-8514-d54ef0927541",
   "metadata": {},
   "outputs": [
    {
     "name": "stdout",
     "output_type": "stream",
     "text": [
      "2\n",
      "4\n",
      "6\n",
      "8\n",
      "10\n"
     ]
    }
   ],
   "source": [
    "list1 = [2, 4, 6, 8, 10, 12, 14, 16,18, 20]\n",
    "list2 = iter(list1)\n",
    "\n",
    "print(next(list2))\n",
    "print(next(list2))\n",
    "print(next(list2))\n",
    "print(next(list2))\n",
    "print(next(list2))"
   ]
  },
  {
   "cell_type": "code",
   "execution_count": null,
   "id": "69d45e9d-efcd-4871-bbc2-a4fbede6f438",
   "metadata": {},
   "outputs": [],
   "source": []
  },
  {
   "cell_type": "markdown",
   "id": "2ec84c0e-5abc-47a9-989d-c61669a06e15",
   "metadata": {},
   "source": [
    "## Q4. What is a generator function in python? Why yield keyword is used? Give an example of a generator function."
   ]
  },
  {
   "cell_type": "markdown",
   "id": "275194ce-e6e3-462b-a8fd-6e2409c3c063",
   "metadata": {},
   "source": [
    "#### Ans. It is a function which generate a sequance of value.\n",
    "####      It do not store all value but instead of that it gives the output one by one.\n",
    "####      This function remove a value from memory after giving output.\n",
    "####      It saves memory.\n",
    "### Yield keyword is used to create a generator function.\n"
   ]
  },
  {
   "cell_type": "code",
   "execution_count": 5,
   "id": "ed381838-cfc4-4f1e-8c22-2b2e39ce7208",
   "metadata": {},
   "outputs": [
    {
     "name": "stdout",
     "output_type": "stream",
     "text": [
      "1\n",
      "4\n",
      "9\n",
      "16\n",
      "25\n",
      "36\n",
      "49\n",
      "64\n",
      "81\n",
      "100\n"
     ]
    }
   ],
   "source": [
    "def gen_func(n):\n",
    "    a = 1\n",
    "    for i in range(n):\n",
    "        yield a**2\n",
    "        a += 1\n",
    "\n",
    "for i in gen_func(10):\n",
    "    print(i)"
   ]
  },
  {
   "cell_type": "code",
   "execution_count": null,
   "id": "df7ca7ca-b74f-43ff-96b5-f946601130a4",
   "metadata": {},
   "outputs": [],
   "source": []
  },
  {
   "cell_type": "markdown",
   "id": "3c6b6c12-f565-4f00-9a91-fb5f98699cd5",
   "metadata": {},
   "source": [
    "## Q5. Create a generator function for prime numbers less than 1000. Use the next() method to print the first 20 prime numbers."
   ]
  },
  {
   "cell_type": "code",
   "execution_count": 6,
   "id": "3b9271fd-753f-4442-9349-ad1e6f58618d",
   "metadata": {},
   "outputs": [
    {
     "name": "stdout",
     "output_type": "stream",
     "text": [
      "2\n",
      "3\n",
      "5\n",
      "7\n",
      "11\n",
      "13\n",
      "17\n",
      "19\n",
      "23\n",
      "29\n",
      "31\n",
      "37\n",
      "41\n",
      "43\n",
      "47\n",
      "53\n",
      "59\n",
      "61\n",
      "67\n",
      "71\n"
     ]
    }
   ],
   "source": [
    "def prime_gen_func():\n",
    "    start,end = 1,1000\n",
    "    for  a in range(start,end+1):\n",
    "        if a>1:\n",
    "            for i in range(2,a):\n",
    "                if a%i==0:\n",
    "                    break\n",
    "            else:\n",
    "                yield a\n",
    "\n",
    "\n",
    "b =iter(prime_gen_func())\n",
    "\n",
    "for i in range(20):\n",
    "    print(next(b))\n"
   ]
  },
  {
   "cell_type": "code",
   "execution_count": null,
   "id": "e453d3aa-1142-40f7-84ce-ee7a7c43783b",
   "metadata": {},
   "outputs": [],
   "source": [
    "\n"
   ]
  }
 ],
 "metadata": {
  "kernelspec": {
   "display_name": "Python 3 (ipykernel)",
   "language": "python",
   "name": "python3"
  },
  "language_info": {
   "codemirror_mode": {
    "name": "ipython",
    "version": 3
   },
   "file_extension": ".py",
   "mimetype": "text/x-python",
   "name": "python",
   "nbconvert_exporter": "python",
   "pygments_lexer": "ipython3",
   "version": "3.10.8"
  }
 },
 "nbformat": 4,
 "nbformat_minor": 5
}
